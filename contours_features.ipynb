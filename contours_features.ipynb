{
 "cells": [
  {
   "cell_type": "markdown",
   "metadata": {},
   "source": [
    "# Features of Contours"
   ]
  },
  {
   "cell_type": "code",
   "execution_count": 53,
   "metadata": {},
   "outputs": [
    {
     "name": "stdout",
     "output_type": "stream",
     "text": [
      "Populating the interactive namespace from numpy and matplotlib\n"
     ]
    },
    {
     "name": "stderr",
     "output_type": "stream",
     "text": [
      "/home/zawster/.local/lib/python3.6/site-packages/IPython/core/magics/pylab.py:160: UserWarning: pylab import has clobbered these variables: ['box', 'plt']\n",
      "`%matplotlib` prevents importing * from pylab and numpy\n",
      "  \"\\n`%matplotlib` prevents importing * from pylab and numpy\"\n"
     ]
    }
   ],
   "source": [
    "import cv2\n",
    "import numpy as np\n",
    "import matplotlib as plt\n",
    "%pylab inline"
   ]
  },
  {
   "cell_type": "markdown",
   "metadata": {},
   "source": [
    "### Moments"
   ]
  },
  {
   "cell_type": "code",
   "execution_count": 54,
   "metadata": {
    "scrolled": false
   },
   "outputs": [
    {
     "name": "stdout",
     "output_type": "stream",
     "text": [
      "{'m00': 95748.0, 'm10': 64523721.5, 'm01': 69713456.83333333, 'm20': 43986758871.166664, 'm11': 47245339834.0, 'm02': 51953384858.5, 'm30': 30322909076193.152, 'm21': 32384203086395.7, 'm12': 35396872258949.47, 'm03': 39568305323695.35, 'mu20': 504799600.89927673, 'mu11': 266064303.27067566, 'mu02': 1195498911.5034103, 'mu30': 265503332.265625, 'mu21': -848651645.579895, 'mu12': -1488649206.0310059, 'mu03': 536010483.8671875, 'nu20': 0.055062963389920526, 'nu11': 0.02902199004170987, 'nu02': 0.1304036545978506, 'nu30': 9.359350215917031e-05, 'nu21': -0.00029916114025831006, 'nu12': -0.0005247689039906978, 'nu03': 0.00018895091805842741}\n"
     ]
    }
   ],
   "source": [
    "import numpy as np\n",
    "import cv2 as cv\n",
    "img = cv.imread('images/P0147.png',0)\n",
    "ret,thresh = cv.threshold(img,127,255,0)\n",
    "im2,contours,hierarchy = cv.findContours(thresh, 1, 2)\n",
    "cnt = contours[0]\n",
    "M = cv.moments(cnt)\n",
    "print( M )"
   ]
  },
  {
   "cell_type": "markdown",
   "metadata": {},
   "source": [
    "##### From this moments, you can extract useful data like area, centroid etc. Centroid is given by the relations, Cx=M10/M00 and Cy=M01/M00. This can be done as follows: "
   ]
  },
  {
   "cell_type": "code",
   "execution_count": 55,
   "metadata": {},
   "outputs": [],
   "source": [
    "cx = int(M['m10']/M['m00'])\n",
    "cy = int(M['m01']/M['m00'])"
   ]
  },
  {
   "cell_type": "code",
   "execution_count": 56,
   "metadata": {},
   "outputs": [
    {
     "name": "stdout",
     "output_type": "stream",
     "text": [
      "Area of Contour is: 95748.0\n"
     ]
    }
   ],
   "source": [
    "### Contour Area\n",
    "area = cv.contourArea(cnt)\n",
    "print(\"Area of Contour is:\",area)"
   ]
  },
  {
   "cell_type": "markdown",
   "metadata": {},
   "source": [
    "### Circles"
   ]
  },
  {
   "cell_type": "code",
   "execution_count": 58,
   "metadata": {},
   "outputs": [
    {
     "data": {
      "image/png": "[encoded data removed]",
      "text/plain": [
       "<Figure size 432x288 with 1 Axes>"
      ]
     },
     "metadata": {
      "needs_background": "light"
     },
     "output_type": "display_data"
    }
   ],
   "source": [
    "img11 = cv2.imread('images/P0147.png',0)\n",
    "img = cv2.resize(img11, (400,400))\n",
    "ret,thresh = cv2.threshold(img,127,255,0)\n",
    "im2,contours,hierarchy = cv2.findContours(thresh, 1, 2)\n",
    "cnt = contours[0]\n",
    "M = cv2.moments(cnt)\n",
    "(x,y),radius = cv2.minEnclosingCircle(cnt)\n",
    "center = (int(x),int(y))\n",
    "radius = int(radius)\n",
    "radius += 5\n",
    "# for i in range(4,0,-1):\n",
    "img2 = cv2.circle(img,center,radius,(0,255,0),2)\n",
    "# print(radius)\n",
    "# img2 = cv2.imread('H0017.jpg',0)\n",
    "# img1 = cv2.resize(img2, (400,400))\n",
    "# fimg = cv2.bitwise_or(img1,img)\n",
    "##--------\n",
    "# cv2.imshow('detected circles',img2)\n",
    "# cv2.waitKey(0)\n",
    "# cv2.destroyAllWindows()\n",
    "img  = cv2.cvtColor(img2,cv2.COLOR_BAYER_BG2BGR)\n",
    "imshow(img) # showing image\n",
    "plt.show()"
   ]
  },
  {
   "cell_type": "markdown",
   "metadata": {},
   "source": [
    "## Ellipse"
   ]
  },
  {
   "cell_type": "code",
   "execution_count": 52,
   "metadata": {},
   "outputs": [
    {
     "name": "stdout",
     "output_type": "stream",
     "text": [
      "(400, 400, 3)\n"
     ]
    },
    {
     "data": {
      "image/png": "[encoded data removed]",
      "text/plain": [
       "<Figure size 432x288 with 1 Axes>"
      ]
     },
     "metadata": {
      "needs_background": "light"
     },
     "output_type": "display_data"
    }
   ],
   "source": [
    "img1 = cv2.imread('images/mainImage.png',0)\n",
    "img = cv2.resize(img1, (400,400))\n",
    "ret,thresh = cv2.threshold(img,127,255,0)\n",
    "im2,contours,hierarchy = cv2.findContours(thresh, 1, 2)\n",
    "cnt = contours[0]\n",
    "cnt = contours[0]\n",
    "ellipse = cv2.fitEllipse(cnt)\n",
    "fimg = cv2.ellipse(img,ellipse,(0,255,0),2)\n",
    "imga  = cv2.cvtColor(fimg,cv2.COLOR_BAYER_BG2BGR)\n",
    "print(imga.shape)\n",
    "# cv2.imshow('detected ellips',fimg)\n",
    "# cv2.waitKey(0)\n",
    "# cv2.destroyAllWindows()\n",
    "imshow(img) # showing image\n",
    "plt.show()"
   ]
  },
  {
   "cell_type": "markdown",
   "metadata": {},
   "source": [
    "## Straight Rectangle"
   ]
  },
  {
   "cell_type": "code",
   "execution_count": 49,
   "metadata": {},
   "outputs": [
    {
     "data": {
      "image/png": "[encoded data removed]",
      "text/plain": [
       "<Figure size 432x288 with 1 Axes>"
      ]
     },
     "metadata": {
      "needs_background": "light"
     },
     "output_type": "display_data"
    }
   ],
   "source": [
    "img11 = cv2.imread('images/P0147.png',0)\n",
    "img = cv2.resize(img11, (400,400))\n",
    "ret,thresh = cv2.threshold(img,127,255,0)\n",
    "im2,contours,hierarchy = cv2.findContours(thresh, 1, 2)\n",
    "cnt = contours[0]\n",
    "cnt = contours[0]\n",
    "\n",
    "x,y,w,h = cv2.boundingRect(cnt)\n",
    "straigt_rect = cv2.rectangle(img,(x,y),(x+w,y+h),(0,255,127),2)\n",
    "imga  = cv2.cvtColor(straigt_rect,cv2.COLOR_BAYER_BG2BGR)\n",
    "# cv2.imshow('Detected Straight Rectangle',imga)\n",
    "# cv2.waitKey(0)\n",
    "# cv2.destroyAllWindows()\n",
    "# print(imga.shape)\n",
    "imshow(imga) # showing image\n",
    "plt.show()"
   ]
  },
  {
   "cell_type": "markdown",
   "metadata": {},
   "source": [
    "## Rotated Rectangle"
   ]
  },
  {
   "cell_type": "code",
   "execution_count": 46,
   "metadata": {},
   "outputs": [
    {
     "data": {
      "image/png": "[encoded data removed]",
      "text/plain": [
       "<Figure size 432x288 with 1 Axes>"
      ]
     },
     "metadata": {
      "needs_background": "light"
     },
     "output_type": "display_data"
    }
   ],
   "source": [
    "img11 = cv2.imread('images/P0147.png',0)\n",
    "img = cv2.resize(img11, (400,400))\n",
    "ret,thresh = cv2.threshold(img,127,255,0)\n",
    "im2,contours,hierarchy = cv2.findContours(thresh, 1, 2)\n",
    "cnt = contours[0]\n",
    "rect = cv2.minAreaRect(cnt)\n",
    "box = cv2.boxPoints(rect)\n",
    "box = np.int0(box)\n",
    "rectangle_image = cv2.drawContours(img,[box],0,(0,0,255),2)\n",
    "# cv2.imshow('Detected Rotated Rectangle',rectangle_image)\n",
    "# cv2.waitKey(0)\n",
    "# cv2.destroyAllWindows()\n",
    "imshow(rectangle_image) # showing image\n",
    "plt.show()"
   ]
  },
  {
   "cell_type": "markdown",
   "metadata": {},
   "source": [
    "## Contour Approximation "
   ]
  },
  {
   "cell_type": "code",
   "execution_count": 22,
   "metadata": {},
   "outputs": [
    {
     "name": "stdout",
     "output_type": "stream",
     "text": [
      "[[[193 147]]\n",
      "\n",
      " [[206 160]]\n",
      "\n",
      " [[212 169]]\n",
      "\n",
      " [[219 183]]\n",
      "\n",
      " [[222 191]]\n",
      "\n",
      " [[227 206]]]\n"
     ]
    }
   ],
   "source": [
    "img11 = cv2.imread('images/P0147.png',0)\n",
    "img = cv2.resize(img11, (400,400))\n",
    "ret,thresh = cv2.threshold(img,127,255,0)\n",
    "im2,contours,hierarchy = cv2.findContours(thresh, 1, 2)\n",
    "cnt = contours[0]\n",
    "epsilon = 0.1*cv2.arcLength(cnt,True)\n",
    "approx = cv2.approxPolyDP(cnt,epsilon,True)\n",
    "print(hull[-6:])"
   ]
  },
  {
   "cell_type": "markdown",
   "metadata": {},
   "source": [
    "## Fitting a Line"
   ]
  },
  {
   "cell_type": "code",
   "execution_count": 47,
   "metadata": {},
   "outputs": [
    {
     "data": {
      "image/png": "[encoded data removed]",
      "text/plain": [
       "<Figure size 432x288 with 1 Axes>"
      ]
     },
     "metadata": {
      "needs_background": "light"
     },
     "output_type": "display_data"
    }
   ],
   "source": [
    "img11 = cv2.imread('images/P0147.png',0)\n",
    "img = cv2.resize(img11, (400,400))\n",
    "ret,thresh = cv2.threshold(img,127,255,0)\n",
    "im2,contours,hierarchy = cv2.findContours(thresh, 1, 2)\n",
    "cnt = contours[0]\n",
    "\n",
    "rows,cols = img.shape[:2]\n",
    "[vx,vy,x,y] = cv2.fitLine(cnt, cv2.DIST_L2,0,0.01,0.01)\n",
    "lefty = int((-x*vy/vx) + y)\n",
    "righty = int(((cols-x)*vy/vx)+y)\n",
    "line_image = cv2.line(img,(cols-1,righty),(0,lefty),(0,255,0),2)\n",
    "# cv2.imshow('Fitted Straight Line',line_image)\n",
    "# cv2.waitKey(0)\n",
    "# cv2.destroyAllWindows()\n",
    "imshow(line_image) # showing image\n",
    "plt.show()"
   ]
  },
  {
   "cell_type": "code",
   "execution_count": null,
   "metadata": {},
   "outputs": [],
   "source": []
  },
  {
   "cell_type": "code",
   "execution_count": null,
   "metadata": {},
   "outputs": [],
   "source": []
  }
 ],
 "metadata": {
  "kernelspec": {
   "display_name": "Python 3",
   "language": "python",
   "name": "python3"
  },
  "language_info": {
   "codemirror_mode": {
    "name": "ipython",
    "version": 3
   },
   "file_extension": ".py",
   "mimetype": "text/x-python",
   "name": "python",
   "nbconvert_exporter": "python",
   "pygments_lexer": "ipython3",
   "version": "3.6.8"
  }
 },
 "nbformat": 4,
 "nbformat_minor": 4
}
